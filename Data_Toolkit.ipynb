{
  "nbformat": 4,
  "nbformat_minor": 0,
  "metadata": {
    "colab": {
      "provenance": [],
      "authorship_tag": "ABX9TyNXv8G7I+wQ+Mz0VCMYsK6K",
      "include_colab_link": true
    },
    "kernelspec": {
      "name": "python3",
      "display_name": "Python 3"
    },
    "language_info": {
      "name": "python"
    }
  },
  "cells": [
    {
      "cell_type": "markdown",
      "metadata": {
        "id": "view-in-github",
        "colab_type": "text"
      },
      "source": [
        "<a href=\"https://colab.research.google.com/github/thepersonuadmire/datatoolkit/blob/main/Data_Toolkit.ipynb\" target=\"_parent\"><img src=\"https://colab.research.google.com/assets/colab-badge.svg\" alt=\"Open In Colab\"/></a>"
      ]
    },
    {
      "cell_type": "markdown",
      "source": [
        "1. What is NumPy, and why is it widely used in Python?"
      ],
      "metadata": {
        "id": "99dF5oaONmCb"
      }
    },
    {
      "cell_type": "markdown",
      "source": [
        "NumPy is a Python library used for numerical computations. It provides a powerful N-dimensional array object and functions for working with these arrays. It is widely used because it is efficient, supports vectorized operations, and integrates well with other scientific computing libraries."
      ],
      "metadata": {
        "id": "BrVxAfflSNay"
      }
    },
    {
      "cell_type": "markdown",
      "source": [
        "2. How does broadcasting work in NumPy?"
      ],
      "metadata": {
        "id": "ktM3eyU-Nq9-"
      }
    },
    {
      "cell_type": "markdown",
      "source": [
        "Broadcasting allows NumPy to perform arithmetic operations on arrays of different shapes by automatically expanding the smaller array to match the shape of the larger one."
      ],
      "metadata": {
        "id": "8moMmQDgSPFw"
      }
    },
    {
      "cell_type": "markdown",
      "source": [
        "3.  What is a Pandas DataFrame?"
      ],
      "metadata": {
        "id": "EFfysfVKNvvU"
      }
    },
    {
      "cell_type": "markdown",
      "source": [
        "A DataFrame in Pandas is a 2D, mutable, tabular data structure with labeled rows and columns, similar to a spreadsheet or SQL table."
      ],
      "metadata": {
        "id": "EjgrXZztSXWZ"
      }
    },
    {
      "cell_type": "markdown",
      "source": [
        "4. Explain the use of the groupby() method in Pandas."
      ],
      "metadata": {
        "id": "40TcYyjWN5V2"
      }
    },
    {
      "cell_type": "markdown",
      "source": [
        "The groupby() method is used to group data based on one or more columns and apply aggregate functions like sum, mean, or count on the grouped data."
      ],
      "metadata": {
        "id": "fUPRyA-jScTx"
      }
    },
    {
      "cell_type": "markdown",
      "source": [
        "5. Why is Seaborn preferred for statistical visualizations?"
      ],
      "metadata": {
        "id": "FsjZhpgyN9v6"
      }
    },
    {
      "cell_type": "markdown",
      "source": [
        "Seaborn provides a high-level interface for creating aesthetically pleasing and informative statistical graphics, simplifying complex visualizations."
      ],
      "metadata": {
        "id": "cJDX7pr5Sfpr"
      }
    },
    {
      "cell_type": "markdown",
      "source": [
        "6. What are the differences between NumPy arrays and Python lists?"
      ],
      "metadata": {
        "id": "JNkMOCKVOC-x"
      }
    },
    {
      "cell_type": "markdown",
      "source": [
        "NumPy arrays are faster and more memory-efficient.\n",
        "\n",
        "\n",
        "Arrays support vectorized operations, while Python lists do not.\n",
        "\n",
        "Arrays can be multidimensional, while lists are inherently 1D.\n"
      ],
      "metadata": {
        "id": "xxADpqLbSkXi"
      }
    },
    {
      "cell_type": "markdown",
      "source": [
        "7. What is a heatmap, and when should it be used?"
      ],
      "metadata": {
        "id": "CGf3HJaeOIQ1"
      }
    },
    {
      "cell_type": "markdown",
      "source": [
        "A heatmap is a data visualization tool that shows data points using varying color intensities. It is useful for visualizing correlation matrices or large data sets."
      ],
      "metadata": {
        "id": "cnju_B8MS0h1"
      }
    },
    {
      "cell_type": "markdown",
      "source": [
        "8. What does the term “vectorized operation” mean in NumPy?"
      ],
      "metadata": {
        "id": "UIiS-AFnOMkS"
      }
    },
    {
      "cell_type": "markdown",
      "source": [
        "Vectorized operations refer to performing element-wise operations on entire arrays without using explicit loops, which enhances speed and efficiency."
      ],
      "metadata": {
        "id": "o6a_IhgJS4mJ"
      }
    },
    {
      "cell_type": "markdown",
      "source": [
        "9. How does Matplotlib differ from Plotly?"
      ],
      "metadata": {
        "id": "nvShXsSwORO5"
      }
    },
    {
      "cell_type": "markdown",
      "source": [
        "Matplotlib is static and better suited for simple plots.\n",
        "\n",
        "Plotly supports interactive and complex visualizations."
      ],
      "metadata": {
        "id": "XtMr4o2uS8Fl"
      }
    },
    {
      "cell_type": "markdown",
      "source": [
        "10.  What is the significance of hierarchical indexing in Pandas?"
      ],
      "metadata": {
        "id": "NjmLSyldOVQs"
      }
    },
    {
      "cell_type": "markdown",
      "source": [
        "Hierarchical indexing allows multi-level indexing in a DataFrame or Series, making it easier to handle data with a hierarchical structure."
      ],
      "metadata": {
        "id": "xyPjvDDLTEA9"
      }
    },
    {
      "cell_type": "markdown",
      "source": [
        "11. What is the role of Seaborn’s pairplot() function?"
      ],
      "metadata": {
        "id": "Y1bCZ9nSOaeL"
      }
    },
    {
      "cell_type": "markdown",
      "source": [
        "The pairplot() function creates pairwise scatterplots for all numerical columns in a dataset, making it easier to visualize relationships."
      ],
      "metadata": {
        "id": "Pv-p92FfTIhH"
      }
    },
    {
      "cell_type": "markdown",
      "source": [
        "12.  What is the purpose of the describe() function in Pandas?"
      ],
      "metadata": {
        "id": "PM9-61LyOeKo"
      }
    },
    {
      "cell_type": "markdown",
      "source": [
        "It provides a summary of statistical measures like mean, median, standard deviation, and percentiles for numerical columns."
      ],
      "metadata": {
        "id": "x-IWo8z_TNCZ"
      }
    },
    {
      "cell_type": "markdown",
      "source": [
        "13. Why is handling missing data important in Pandas?"
      ],
      "metadata": {
        "id": "mp63R9rHOidC"
      }
    },
    {
      "cell_type": "markdown",
      "source": [
        "Missing data can lead to incorrect analyses and results, so handling them ensures data integrity and accurate insights."
      ],
      "metadata": {
        "id": "D9fWYHKsTSYa"
      }
    },
    {
      "cell_type": "markdown",
      "source": [
        "14. What are the benefits of using Plotly for data visualization?"
      ],
      "metadata": {
        "id": "9UxONWlsOnxw"
      }
    },
    {
      "cell_type": "markdown",
      "source": [
        "Plotly allows for interactive, detailed, and aesthetically customizable visualizations."
      ],
      "metadata": {
        "id": "_6syw7vYTWX5"
      }
    },
    {
      "cell_type": "markdown",
      "source": [
        "15. How does NumPy handle multidimensional arrays?"
      ],
      "metadata": {
        "id": "t8jEHySkO4Ij"
      }
    },
    {
      "cell_type": "markdown",
      "source": [
        "NumPy provides tools for creating, reshaping, and performing operations on multidimensional arrays efficiently."
      ],
      "metadata": {
        "id": "4OlPZFvBTfrL"
      }
    },
    {
      "cell_type": "markdown",
      "source": [
        "16.  What is the role of Bokeh in data visualization?"
      ],
      "metadata": {
        "id": "Knr2OQXoPJWY"
      }
    },
    {
      "cell_type": "markdown",
      "source": [
        "Bokeh is a Python library for creating interactive visualizations for web applications."
      ],
      "metadata": {
        "id": "dDjZID8OTjPb"
      }
    },
    {
      "cell_type": "markdown",
      "source": [
        "17. Explain the difference between apply() and map() in Pandas?"
      ],
      "metadata": {
        "id": "BuUs2jSTPhNA"
      }
    },
    {
      "cell_type": "markdown",
      "source": [
        "map() is for element-wise operations on Series.\n",
        "\n",
        "apply() is for applying custom functions along rows or columns in DataFrames."
      ],
      "metadata": {
        "id": "5uHJLBehTnii"
      }
    },
    {
      "cell_type": "markdown",
      "source": [
        "18. What are some advanced features of NumPy?"
      ],
      "metadata": {
        "id": "Wuz70vjbPvCd"
      }
    },
    {
      "cell_type": "markdown",
      "source": [
        "*   Linear algebra operations.\n",
        "*   Broadcasting\n",
        "*   FFT (Fast Fourier Transfomation)\n",
        "*   Random sampling."
      ],
      "metadata": {
        "id": "jbbt0pY9TsbZ"
      }
    },
    {
      "cell_type": "markdown",
      "source": [
        "19. How does Pandas simplify time series analysis?"
      ],
      "metadata": {
        "id": "Js3TvSnkP1Pz"
      }
    },
    {
      "cell_type": "markdown",
      "source": [
        "Pandas has built-in functions for date-time indexing, resampling, and rolling-window operations."
      ],
      "metadata": {
        "id": "iI-qYMHCUWmT"
      }
    },
    {
      "cell_type": "markdown",
      "source": [
        "20. A What is the role of a pivot table in Pandas?"
      ],
      "metadata": {
        "id": "OiUWMeIYP5ln"
      }
    },
    {
      "cell_type": "markdown",
      "source": [
        "Pivot tables summarize data, allowing aggregation and reshaping based on index and columns."
      ],
      "metadata": {
        "id": "cgr6akDoUbec"
      }
    },
    {
      "cell_type": "markdown",
      "source": [
        "21. Why is NumPy’s array slicing faster than Python’s list slicing?"
      ],
      "metadata": {
        "id": "H_vZ_14gQGtQ"
      }
    },
    {
      "cell_type": "markdown",
      "source": [
        "NumPy uses C-optimized operations, whereas Python lists are more generic and slower."
      ],
      "metadata": {
        "id": "vaEQyk_HUr4K"
      }
    },
    {
      "cell_type": "markdown",
      "source": [
        "22. What are some common use cases for Seaborn?"
      ],
      "metadata": {
        "id": "cMLhuZxbQQvq"
      }
    },
    {
      "cell_type": "markdown",
      "source": [
        "*   Visualizing distributions.\n",
        "*   Analyzing relationships between variables.\n",
        "*   Statistical plots like heatmaps and violin plots.\n",
        "\n",
        "\n"
      ],
      "metadata": {
        "id": "Sj5WPGHtUtAX"
      }
    },
    {
      "cell_type": "markdown",
      "source": [
        "# **Practical**"
      ],
      "metadata": {
        "id": "_k10SNEpQaEx"
      }
    },
    {
      "cell_type": "markdown",
      "source": [
        "1. How do you create a 2D NumPy array and calculate the sum of each row?"
      ],
      "metadata": {
        "id": "gJSYY7_1QiFW"
      }
    },
    {
      "cell_type": "code",
      "source": [
        "import numpy as np\n",
        "array = np.array([[1, 2, 3], [4, 5, 6], [7, 8, 9]])\n",
        "row_sums = array.sum(axis=1)\n",
        "print(row_sums)\n"
      ],
      "metadata": {
        "id": "lfoa7tXXVW7w"
      },
      "execution_count": null,
      "outputs": []
    },
    {
      "cell_type": "markdown",
      "source": [
        "2. Write a Pandas script to find the mean of a specific column in a DataFrame?"
      ],
      "metadata": {
        "id": "Yt_O-qVfQ0QE"
      }
    },
    {
      "cell_type": "code",
      "source": [
        "import pandas as pd\n",
        "data = {'A': [1, 2, 3], 'B': [4, 5, 6]}\n",
        "df = pd.DataFrame(data)\n",
        "mean_col = df['B'].mean()\n",
        "print(mean_col)\n"
      ],
      "metadata": {
        "id": "L3mQ41y1Vgmp"
      },
      "execution_count": null,
      "outputs": []
    },
    {
      "cell_type": "markdown",
      "source": [
        "3. Create a scatter plot using Matplotlib."
      ],
      "metadata": {
        "id": "nxf7S3c3Q8Vx"
      }
    },
    {
      "cell_type": "code",
      "source": [
        "import matplotlib.pyplot as plt\n",
        "plt.scatter([1, 2, 3], [4, 5, 6])\n",
        "plt.show()\n"
      ],
      "metadata": {
        "id": "l19fiEjsVoTA"
      },
      "execution_count": null,
      "outputs": []
    },
    {
      "cell_type": "markdown",
      "source": [
        "4. How do you calculate the correlation matrix using Seaborn and visualize it with a heatmap?"
      ],
      "metadata": {
        "id": "0pV9hdecRCv_"
      }
    },
    {
      "cell_type": "code",
      "source": [
        "import seaborn as sns\n",
        "correlation = df.corr()\n",
        "sns.heatmap(correlation, annot=True)\n"
      ],
      "metadata": {
        "id": "qmP5fRi6VwFZ"
      },
      "execution_count": null,
      "outputs": []
    },
    {
      "cell_type": "markdown",
      "source": [
        "5. Generate a bar plot using Plotly."
      ],
      "metadata": {
        "id": "nHeJYLZBRG64"
      }
    },
    {
      "cell_type": "code",
      "source": [
        "import plotly.express as px\n",
        "data = {'A': ['X', 'Y', 'Z'], 'B': [10, 20, 30]}\n",
        "fig = px.bar(data, x='A', y='B')\n",
        "fig.show()\n"
      ],
      "metadata": {
        "id": "JlujXHcCVzcJ"
      },
      "execution_count": null,
      "outputs": []
    },
    {
      "cell_type": "markdown",
      "source": [
        "6. Create a DataFrame and add a new column based on an existing column."
      ],
      "metadata": {
        "id": "5r6QI8FxRMH9"
      }
    },
    {
      "cell_type": "code",
      "source": [
        "import pandas as pd\n",
        "data = {'A': [1, 2, 3], 'B': [4, 5, 6]}\n",
        "df = pd.DataFrame(data)\n",
        "df['C'] = df['A'] + df['B']\n",
        "print(df)\n"
      ],
      "metadata": {
        "id": "PuwnE1NfV3JL"
      },
      "execution_count": null,
      "outputs": []
    },
    {
      "cell_type": "markdown",
      "source": [
        "7. Write a program to perform element-wise multiplication of two NumPy arrays."
      ],
      "metadata": {
        "id": "Fu8hnjMIRVQ9"
      }
    },
    {
      "cell_type": "code",
      "source": [
        "import numpy as np\n",
        "array1 = np.array([1, 2, 3])\n",
        "array2 = np.array([4, 5, 6])\n",
        "result = array1 * array2\n",
        "print(result)\n"
      ],
      "metadata": {
        "id": "bFv7L8FhV5_3"
      },
      "execution_count": null,
      "outputs": []
    },
    {
      "cell_type": "markdown",
      "source": [
        "8. Create a line plot with multiple lines using Matplotlib."
      ],
      "metadata": {
        "id": "66gDBsNXRay5"
      }
    },
    {
      "cell_type": "code",
      "source": [
        "import matplotlib.pyplot as plt\n",
        "x = [1, 2, 3]\n",
        "y1 = [1, 4, 9]\n",
        "y2 = [1, 2, 3]\n",
        "plt.plot(x, y1, label=\"Line 1\")\n",
        "plt.plot(x, y2, label=\"Line 2\")\n",
        "plt.legend()\n",
        "plt.show()\n"
      ],
      "metadata": {
        "id": "FZ5ajRitWe0u"
      },
      "execution_count": null,
      "outputs": []
    },
    {
      "cell_type": "markdown",
      "source": [
        "9. A Generate a Pandas DataFrame and filter rows where a column value is greater than a threshold."
      ],
      "metadata": {
        "id": "Efmzt3GPRe96"
      }
    },
    {
      "cell_type": "code",
      "source": [
        "import pandas as pd\n",
        "data = {'A': [1, 2, 3], 'B': [4, 5, 6]}\n",
        "df = pd.DataFrame(data)\n",
        "filtered_df = df[df['B'] > 4]\n",
        "print(filtered_df)\n"
      ],
      "metadata": {
        "id": "Zr0o-OyLWgbD"
      },
      "execution_count": null,
      "outputs": []
    },
    {
      "cell_type": "markdown",
      "source": [
        "10. Create a histogram using Seaborn to visualize a distribution."
      ],
      "metadata": {
        "id": "mhhA-qcbRj-E"
      }
    },
    {
      "cell_type": "code",
      "source": [
        "import seaborn as sns\n",
        "import matplotlib.pyplot as plt\n",
        "data = [1, 2, 2, 3, 3, 3, 4, 4, 4, 4]\n",
        "sns.histplot(data, kde=True)\n",
        "plt.show()\n"
      ],
      "metadata": {
        "id": "wTvcOZPjWj5l"
      },
      "execution_count": null,
      "outputs": []
    },
    {
      "cell_type": "markdown",
      "source": [
        "11. A Perform matrix multiplication using NumPy."
      ],
      "metadata": {
        "id": "spS9bHQpRpDH"
      }
    },
    {
      "cell_type": "code",
      "source": [
        "import numpy as np\n",
        "matrix1 = np.array([[1, 2], [3, 4]])\n",
        "matrix2 = np.array([[5, 6], [7, 8]])\n",
        "result = np.dot(matrix1, matrix2)\n",
        "print(result)\n"
      ],
      "metadata": {
        "id": "5roUSRJBWpMG"
      },
      "execution_count": null,
      "outputs": []
    },
    {
      "cell_type": "markdown",
      "source": [
        "12.  Use Pandas to load a CSV file and display its first 5 rows."
      ],
      "metadata": {
        "id": "z1cDdGe0RtoF"
      }
    },
    {
      "cell_type": "code",
      "source": [
        "import pandas as pd\n",
        "df = pd.read_csv('your_file.csv')\n",
        "print(df.head())\n"
      ],
      "metadata": {
        "id": "ip7jj8kFWryh"
      },
      "execution_count": null,
      "outputs": []
    },
    {
      "cell_type": "markdown",
      "source": [
        "13. Create a 3D scatter plot using Plotly."
      ],
      "metadata": {
        "id": "dkRbWJlkRyxl"
      }
    },
    {
      "cell_type": "code",
      "source": [
        "import plotly.express as px\n",
        "import pandas as pd\n",
        "data = {'x': [1, 2, 3], 'y': [4, 5, 6], 'z': [7, 8, 9]}\n",
        "df = pd.DataFrame(data)\n",
        "fig = px.scatter_3d(df, x='x', y='y', z='z')\n",
        "fig.show()\n"
      ],
      "metadata": {
        "id": "f6J08xwLWxAQ"
      },
      "execution_count": null,
      "outputs": []
    }
  ]
}